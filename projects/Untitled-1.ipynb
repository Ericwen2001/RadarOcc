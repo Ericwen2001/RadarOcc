{
 "cells": [
  {
   "cell_type": "code",
   "execution_count": 2,
   "metadata": {},
   "outputs": [],
   "source": [
    "import scipy.io\n",
    "import numpy as np\n",
    "import torch\n",
    "\n",
    "\n"
   ]
  },
  {
   "cell_type": "code",
   "execution_count": 3,
   "metadata": {},
   "outputs": [],
   "source": [
    "\n",
    "\n",
    "\n",
    "arr_cube = torch.randn(3, 20, 256, 256)\n",
    "batch_size, dim1, dim2, dim3 = arr_cube.shape\n",
    "\n"
   ]
  },
  {
   "cell_type": "code",
   "execution_count": 9,
   "metadata": {},
   "outputs": [],
   "source": [
    "z_ind_list = []\n",
    "y_ind_list = []\n",
    "x_ind_list = []\n",
    "for i in range(arr_cube.shape[0]):\n",
    "    # mpute the quantile for each batch separately\n",
    "    quantile_value = arr_cube[i].quantile(0.9)\n",
    "    # nd indices where the condition is met for each batch\n",
    "    z_ind, y_ind, x_ind = torch.where(arr_cube[i] > quantile_value)\n",
    "    # ore the indices for each batch\n",
    "    z_ind_list.append(z_ind)\n",
    "    y_ind_list.append(y_ind)\n",
    "    x_ind_list.append(x_ind)"
   ]
  },
  {
   "cell_type": "code",
   "execution_count": 15,
   "metadata": {},
   "outputs": [
    {
     "ename": "IndexError",
     "evalue": "index 16 is out of bounds for dimension 0 with size 3",
     "output_type": "error",
     "traceback": [
      "\u001b[0;31m---------------------------------------------------------------------------\u001b[0m",
      "\u001b[0;31mIndexError\u001b[0m                                Traceback (most recent call last)",
      "\u001b[0;32m/tmp/ipykernel_33057/3870766211.py\u001b[0m in \u001b[0;36m<module>\u001b[0;34m\u001b[0m\n\u001b[0;32m----> 1\u001b[0;31m \u001b[0mpower_val\u001b[0m \u001b[0;34m=\u001b[0m \u001b[0marr_cube\u001b[0m\u001b[0;34m[\u001b[0m\u001b[0mz_ind\u001b[0m\u001b[0;34m,\u001b[0m \u001b[0my_ind\u001b[0m\u001b[0;34m,\u001b[0m \u001b[0mx_ind\u001b[0m\u001b[0;34m]\u001b[0m\u001b[0;34m.\u001b[0m\u001b[0mreshape\u001b[0m\u001b[0;34m(\u001b[0m\u001b[0mbatch_size\u001b[0m\u001b[0;34m,\u001b[0m\u001b[0;34m-\u001b[0m\u001b[0;36m1\u001b[0m\u001b[0;34m)\u001b[0m\u001b[0;34m.\u001b[0m\u001b[0munsqueeze\u001b[0m\u001b[0;34m(\u001b[0m\u001b[0;34m-\u001b[0m\u001b[0;36m1\u001b[0m\u001b[0;34m)\u001b[0m\u001b[0;34m\u001b[0m\u001b[0;34m\u001b[0m\u001b[0m\n\u001b[0m\u001b[1;32m      2\u001b[0m \u001b[0mB\u001b[0m\u001b[0;34m,\u001b[0m \u001b[0mN\u001b[0m\u001b[0;34m,\u001b[0m \u001b[0mC\u001b[0m \u001b[0;34m=\u001b[0m \u001b[0mpower_val\u001b[0m\u001b[0;34m.\u001b[0m\u001b[0mshape\u001b[0m\u001b[0;34m\u001b[0m\u001b[0;34m\u001b[0m\u001b[0m\n\u001b[1;32m      3\u001b[0m \u001b[0mlist_batch_indices\u001b[0m \u001b[0;34m=\u001b[0m \u001b[0;34m[\u001b[0m\u001b[0;34m]\u001b[0m\u001b[0;34m\u001b[0m\u001b[0;34m\u001b[0m\u001b[0m\n\u001b[1;32m      4\u001b[0m \u001b[0;32mfor\u001b[0m \u001b[0mbatch_idx\u001b[0m \u001b[0;32min\u001b[0m \u001b[0mrange\u001b[0m\u001b[0;34m(\u001b[0m\u001b[0mB\u001b[0m\u001b[0;34m)\u001b[0m\u001b[0;34m:\u001b[0m\u001b[0;34m\u001b[0m\u001b[0;34m\u001b[0m\u001b[0m\n\u001b[1;32m      5\u001b[0m         \u001b[0mbatch_indices\u001b[0m \u001b[0;34m=\u001b[0m \u001b[0mtorch\u001b[0m\u001b[0;34m.\u001b[0m\u001b[0mfull\u001b[0m\u001b[0;34m(\u001b[0m\u001b[0;34m(\u001b[0m\u001b[0mN\u001b[0m\u001b[0;34m,\u001b[0m\u001b[0;36m1\u001b[0m\u001b[0;34m)\u001b[0m\u001b[0;34m,\u001b[0m \u001b[0mbatch_idx\u001b[0m\u001b[0;34m,\u001b[0m \u001b[0mdtype\u001b[0m \u001b[0;34m=\u001b[0m \u001b[0mtorch\u001b[0m\u001b[0;34m.\u001b[0m\u001b[0mlong\u001b[0m\u001b[0;34m)\u001b[0m\u001b[0;34m\u001b[0m\u001b[0;34m\u001b[0m\u001b[0m\n",
      "\u001b[0;31mIndexError\u001b[0m: index 16 is out of bounds for dimension 0 with size 3"
     ]
    }
   ],
   "source": [
    "\n",
    "list_batch_indices = []\n",
    "for batch_idx in range(arr_cube.shape[0]):\n",
    "        batch_indices = torch.full((N,1), batch_idx, dtype = torch.long)\n",
    "        list_batch_indices.append(batch_indices)\n",
    "sp_indices = torch.cat(list_batch_indices)"
   ]
  },
  {
   "cell_type": "code",
   "execution_count": 4,
   "metadata": {},
   "outputs": [],
   "source": [
    "b_ind, z_ind, y_ind, x_ind = torch.where(arr_cube > arr_cube.quantile(0.9))"
   ]
  },
  {
   "cell_type": "code",
   "execution_count": 7,
   "metadata": {},
   "outputs": [
    {
     "data": {
      "text/plain": [
       "torch.Size([393216])"
      ]
     },
     "execution_count": 7,
     "metadata": {},
     "output_type": "execute_result"
    }
   ],
   "source": [
    "b_ind.shape"
   ]
  },
  {
   "cell_type": "code",
   "execution_count": 5,
   "metadata": {},
   "outputs": [],
   "source": [
    "z_min, z_max =-5, 2.6\n",
    "y_min, y_max = -51.2, 50.8\n",
    "x_min, x_max = -51.2, 50.8\n",
    "grid_size = 0.4"
   ]
  },
  {
   "cell_type": "code",
   "execution_count": 6,
   "metadata": {},
   "outputs": [],
   "source": [
    "power_val = arr_cube[b_ind, z_ind, y_ind, x_ind].reshape(batch_size,-1).unsqueeze(-1)\n",
    "B, N, C = power_val.shape\n",
    "list_batch_indices = []\n",
    "for batch_idx in range(B):\n",
    "        batch_indices = torch.full((N,1), batch_idx, dtype = torch.long)\n",
    "        list_batch_indices.append(batch_indices)\n",
    "sp_indices = torch.cat(list_batch_indices)\n",
    "power_val = power_val.view(B*N, C)\n",
    "power_val.shape\n",
    "z_pc_coord = ((z_min + z_ind * grid_size) - grid_size / 2).unsqueeze(-1)\n",
    "y_pc_coord = ((y_min + y_ind * grid_size) - grid_size / 2).unsqueeze(-1)\n",
    "x_pc_coord = ((x_min + x_ind * grid_size) - grid_size / 2).unsqueeze(-1)\n",
    "sparse_rdr_cube = torch.cat((x_pc_coord, y_pc_coord, z_pc_coord, power_val), dim=-1).to(torch.float32)\n",
    "sp_indices = torch.cat((sp_indices, z_ind.unsqueeze(-1), y_ind.unsqueeze(-1), x_ind.unsqueeze(-1)), dim = -1)"
   ]
  },
  {
   "cell_type": "code",
   "execution_count": 8,
   "metadata": {},
   "outputs": [
    {
     "data": {
      "text/plain": [
       "torch.Size([262144, 1])"
      ]
     },
     "execution_count": 8,
     "metadata": {},
     "output_type": "execute_result"
    }
   ],
   "source": [
    "z_ind.unsqueeze(-1).shape"
   ]
  },
  {
   "cell_type": "code",
   "execution_count": 10,
   "metadata": {},
   "outputs": [
    {
     "data": {
      "text/plain": [
       "torch.Size([786432, 1])"
      ]
     },
     "execution_count": 10,
     "metadata": {},
     "output_type": "execute_result"
    }
   ],
   "source": [
    "for batch_idx in range(B):\n",
    "        batch_indices = torch.full((N,1), batch_idx, dtype = torch.long)\n",
    "        list_batch_indices.append(batch_indices)\n",
    "sp_indices = torch.cat(list_batch_indices)\n",
    "sp_indices.shape"
   ]
  },
  {
   "cell_type": "code",
   "execution_count": 12,
   "metadata": {},
   "outputs": [
    {
     "data": {
      "text/plain": [
       "torch.Size([262144, 4])"
      ]
     },
     "execution_count": 12,
     "metadata": {},
     "output_type": "execute_result"
    }
   ],
   "source": [
    "sp_indices.shape"
   ]
  },
  {
   "cell_type": "code",
   "execution_count": 11,
   "metadata": {},
   "outputs": [
    {
     "data": {
      "text/plain": [
       "torch.Size([262144, 1])"
      ]
     },
     "execution_count": 11,
     "metadata": {},
     "output_type": "execute_result"
    }
   ],
   "source": [
    "z_ind_new.shape"
   ]
  },
  {
   "cell_type": "code",
   "execution_count": 12,
   "metadata": {},
   "outputs": [
    {
     "data": {
      "text/plain": [
       "True"
      ]
     },
     "execution_count": 12,
     "metadata": {},
     "output_type": "execute_result"
    }
   ],
   "source": [
    "z_ind_new.equal(z_ind.unsqueeze(-1))"
   ]
  },
  {
   "cell_type": "code",
   "execution_count": 14,
   "metadata": {},
   "outputs": [
    {
     "data": {
      "text/plain": [
       "tensor([[-46.6000],\n",
       "        [-40.6000],\n",
       "        [-29.8000],\n",
       "        ...,\n",
       "        [ 41.0000],\n",
       "        [ 42.6000],\n",
       "        [ 45.4000]])"
      ]
     },
     "execution_count": 14,
     "metadata": {},
     "output_type": "execute_result"
    }
   ],
   "source": [
    "x_coord"
   ]
  },
  {
   "cell_type": "code",
   "execution_count": 5,
   "metadata": {},
   "outputs": [
    {
     "ename": "ValueError",
     "evalue": "not enough values to unpack (expected 3, got 2)",
     "output_type": "error",
     "traceback": [
      "\u001b[0;31m---------------------------------------------------------------------------\u001b[0m",
      "\u001b[0;31mValueError\u001b[0m                                Traceback (most recent call last)",
      "\u001b[0;32m/tmp/ipykernel_29214/2743510517.py\u001b[0m in \u001b[0;36m<module>\u001b[0;34m\u001b[0m\n\u001b[1;32m      8\u001b[0m \u001b[0mx_pc_coord\u001b[0m \u001b[0;34m=\u001b[0m \u001b[0;34m(\u001b[0m\u001b[0;34m(\u001b[0m\u001b[0mx_min\u001b[0m \u001b[0;34m+\u001b[0m \u001b[0mx_ind\u001b[0m \u001b[0;34m*\u001b[0m \u001b[0mgrid_size\u001b[0m\u001b[0;34m)\u001b[0m \u001b[0;34m-\u001b[0m \u001b[0mgrid_size\u001b[0m \u001b[0;34m/\u001b[0m \u001b[0;36m2\u001b[0m\u001b[0;34m)\u001b[0m\u001b[0;34m.\u001b[0m\u001b[0munsqueeze\u001b[0m\u001b[0;34m(\u001b[0m\u001b[0;34m-\u001b[0m\u001b[0;36m1\u001b[0m\u001b[0;34m)\u001b[0m\u001b[0;34m\u001b[0m\u001b[0;34m\u001b[0m\u001b[0m\n\u001b[1;32m      9\u001b[0m \u001b[0msparse_rdr_cube\u001b[0m \u001b[0;34m=\u001b[0m \u001b[0mtorch\u001b[0m\u001b[0;34m.\u001b[0m\u001b[0mcat\u001b[0m\u001b[0;34m(\u001b[0m\u001b[0;34m(\u001b[0m\u001b[0mx_pc_coord\u001b[0m\u001b[0;34m,\u001b[0m \u001b[0my_pc_coord\u001b[0m\u001b[0;34m,\u001b[0m \u001b[0mz_pc_coord\u001b[0m\u001b[0;34m,\u001b[0m \u001b[0mpower_val\u001b[0m\u001b[0;34m)\u001b[0m\u001b[0;34m,\u001b[0m \u001b[0mdim\u001b[0m\u001b[0;34m=\u001b[0m\u001b[0;34m-\u001b[0m\u001b[0;36m1\u001b[0m\u001b[0;34m)\u001b[0m\u001b[0;34m.\u001b[0m\u001b[0mto\u001b[0m\u001b[0;34m(\u001b[0m\u001b[0mtorch\u001b[0m\u001b[0;34m.\u001b[0m\u001b[0mfloat32\u001b[0m\u001b[0;34m)\u001b[0m\u001b[0;34m\u001b[0m\u001b[0;34m\u001b[0m\u001b[0m\n\u001b[0;32m---> 10\u001b[0;31m \u001b[0mB\u001b[0m\u001b[0;34m,\u001b[0m \u001b[0mN\u001b[0m\u001b[0;34m,\u001b[0m \u001b[0mC\u001b[0m \u001b[0;34m=\u001b[0m \u001b[0mpower_val\u001b[0m\u001b[0;34m.\u001b[0m\u001b[0mshape\u001b[0m\u001b[0;34m\u001b[0m\u001b[0;34m\u001b[0m\u001b[0m\n\u001b[0m\u001b[1;32m     11\u001b[0m \u001b[0mx_coord\u001b[0m\u001b[0;34m,\u001b[0m \u001b[0my_coord\u001b[0m\u001b[0;34m,\u001b[0m \u001b[0mz_coord\u001b[0m \u001b[0;34m=\u001b[0m \u001b[0msparse_rdr_cube\u001b[0m\u001b[0;34m[\u001b[0m\u001b[0;34m:\u001b[0m\u001b[0;34m,\u001b[0m \u001b[0;36m0\u001b[0m\u001b[0;34m:\u001b[0m\u001b[0;36m1\u001b[0m\u001b[0;34m]\u001b[0m\u001b[0;34m,\u001b[0m \u001b[0msparse_rdr_cube\u001b[0m\u001b[0;34m[\u001b[0m\u001b[0;34m:\u001b[0m\u001b[0;34m,\u001b[0m \u001b[0;36m1\u001b[0m\u001b[0;34m:\u001b[0m\u001b[0;36m2\u001b[0m\u001b[0;34m]\u001b[0m\u001b[0;34m,\u001b[0m \u001b[0msparse_rdr_cube\u001b[0m\u001b[0;34m[\u001b[0m\u001b[0;34m:\u001b[0m\u001b[0;34m,\u001b[0m \u001b[0;36m2\u001b[0m\u001b[0;34m:\u001b[0m\u001b[0;36m3\u001b[0m\u001b[0;34m]\u001b[0m\u001b[0;34m\u001b[0m\u001b[0;34m\u001b[0m\u001b[0m\n\u001b[1;32m     12\u001b[0m \u001b[0mlist_batch_indices\u001b[0m \u001b[0;34m=\u001b[0m \u001b[0;34m[\u001b[0m\u001b[0;34m]\u001b[0m\u001b[0;34m\u001b[0m\u001b[0;34m\u001b[0m\u001b[0m\n",
      "\u001b[0;31mValueError\u001b[0m: not enough values to unpack (expected 3, got 2)"
     ]
    }
   ],
   "source": [
    "z_min, z_max =-5, 2.6\n",
    "y_min, y_max = -51.2, 50.8\n",
    "x_min, x_max = -51.2, 50.8\n",
    "powfer_val = arr_cube[b_ind,z_ind, y_ind, x_ind].unsqueeze(-1)\n",
    "\n",
    "z_pc_coord = ((z_min + z_ind * grid_size) - grid_size / 2).unsqueeze(-1)\n",
    "y_pc_coord = ((y_min + y_ind * grid_size) - grid_size / 2).unsqueeze(-1)\n",
    "x_pc_coord = ((x_min + x_ind * grid_size) - grid_size / 2).unsqueeze(-1)\n",
    "sparse_rdr_cube = torch.cat((x_pc_coord, y_pc_coord, z_pc_coord, power_val), dim=-1).to(torch.float32)\n",
    "\n",
    "x_coord, y_coord, z_coord = sparse_rdr_cube[:, 0:1], sparse_rdr_cube[:, 1:2], sparse_rdr_cube[:, 2:3]\n",
    "list_batch_indices = []\n",
    "for batch_idx in range(B):\n",
    "    batch_indices = torch.full((N,1), batch_idx, dtype = torch.long)\n",
    "    list_batch_indices.append(batch_indices)\n",
    "sp_indices = torch.cat(list_batch_indices)\n",
    "dtype = torch.float32\n",
    "\n",
    "z_ind = torch.ceil((z_coord-z_min) / grid_size).long()\n",
    "y_ind = torch.ceil((y_coord-y_min) / grid_size).long()\n",
    "x_ind = torch.ceil((x_coord-x_min) / grid_size).long()\n",
    "sp_indices = torch.cat((sp_indices, z_ind.unsqueeze(-1), y_ind.unsqueeze(-1), x_ind.unsqueeze(-1)), dim = -1)    "
   ]
  },
  {
   "cell_type": "code",
   "execution_count": 33,
   "metadata": {},
   "outputs": [],
   "source": [
    "power_val = arr_cube[b_ind, z_ind, y_ind, x_ind].reshape(batch_size,-1).unsqueeze(-1)\n",
    "\n",
    "grid_size = 0.4\n",
    "\n",
    "# Adjusting the coordinate calculations to include the batch dimension\n",
    "z_pc_coord = ((z_min + z_ind * grid_size) - grid_size / 2).unsqueeze(-1)\n",
    "y_pc_coord = ((y_min + y_ind * grid_size) - grid_size / 2).unsqueeze(-1)\n",
    "x_pc_coord = ((x_min + x_ind * grid_size) - grid_size / 2).unsqueeze(-1)\n",
    "\n",
    "# Concatenating coordinates and power values, considering the batch dimension\n",
    "sparse_rdr_cube = torch.cat((x_pc_coord, y_pc_coord, z_pc_coord, power_val), dim=-1).to(torch.float32)"
   ]
  },
  {
   "cell_type": "code",
   "execution_count": 36,
   "metadata": {},
   "outputs": [
    {
     "data": {
      "text/plain": [
       "torch.Size([262144, 1])"
      ]
     },
     "execution_count": 36,
     "metadata": {},
     "output_type": "execute_result"
    }
   ],
   "source": [
    "power_val.shape"
   ]
  },
  {
   "cell_type": "code",
   "execution_count": 30,
   "metadata": {},
   "outputs": [],
   "source": [
    "list_batch_indices = []\n",
    "for batch_idx in range(2):\n",
    "            batch_indices = torch.full((131072,1), batch_idx, dtype = torch.long)\n",
    "            list_batch_indices.append(batch_indices)\n",
    "sp_indices = torch.cat(list_batch_indices)"
   ]
  },
  {
   "cell_type": "code",
   "execution_count": 34,
   "metadata": {},
   "outputs": [
    {
     "data": {
      "text/plain": [
       "tensor([[0],\n",
       "        [0],\n",
       "        [0],\n",
       "        ...,\n",
       "        [1],\n",
       "        [1],\n",
       "        [1]])"
      ]
     },
     "execution_count": 34,
     "metadata": {},
     "output_type": "execute_result"
    }
   ],
   "source": [
    "sp_indices"
   ]
  },
  {
   "cell_type": "code",
   "execution_count": 35,
   "metadata": {},
   "outputs": [
    {
     "data": {
      "text/plain": [
       "torch.Size([262144, 1])"
      ]
     },
     "execution_count": 35,
     "metadata": {},
     "output_type": "execute_result"
    }
   ],
   "source": [
    "z_pc_coord.shape"
   ]
  },
  {
   "cell_type": "code",
   "execution_count": 27,
   "metadata": {},
   "outputs": [
    {
     "data": {
      "text/plain": [
       "torch.Size([131072, 4])"
      ]
     },
     "execution_count": 27,
     "metadata": {},
     "output_type": "execute_result"
    }
   ],
   "source": [
    "sparse_rdr_cube.shape"
   ]
  },
  {
   "cell_type": "code",
   "execution_count": 25,
   "metadata": {},
   "outputs": [
    {
     "data": {
      "text/plain": [
       "tensor([1.4788, 1.9477, 1.3865,  ..., 2.4471, 1.8429, 1.4591])"
      ]
     },
     "execution_count": 25,
     "metadata": {},
     "output_type": "execute_result"
    }
   ],
   "source": [
    "arr_cube[b_ind, z_ind, y_ind, x_ind]"
   ]
  },
  {
   "cell_type": "code",
   "execution_count": 2,
   "metadata": {},
   "outputs": [],
   "source": [
    "\n",
    "import scipy\n",
    "import scipy.io\n",
    "import numpy as np\n",
    "\n",
    "radar_path = '/mnt/data/DataSet/K-Radar/2/radar_zyx_cube/cube_00001.mat'\n",
    "mat_data = scipy.io.loadmat(radar_path)"
   ]
  },
  {
   "cell_type": "code",
   "execution_count": 5,
   "metadata": {},
   "outputs": [
    {
     "data": {
      "text/plain": [
       "(150, 400, 250)"
      ]
     },
     "execution_count": 5,
     "metadata": {},
     "output_type": "execute_result"
    }
   ],
   "source": [
    "mat_data['arr_zyx'].shape"
   ]
  },
  {
   "cell_type": "code",
   "execution_count": null,
   "metadata": {},
   "outputs": [],
   "source": []
  }
 ],
 "metadata": {
  "kernelspec": {
   "display_name": "surroundocc",
   "language": "python",
   "name": "python3"
  },
  "language_info": {
   "codemirror_mode": {
    "name": "ipython",
    "version": 3
   },
   "file_extension": ".py",
   "mimetype": "text/x-python",
   "name": "python",
   "nbconvert_exporter": "python",
   "pygments_lexer": "ipython3",
   "version": "3.7.16"
  }
 },
 "nbformat": 4,
 "nbformat_minor": 2
}
