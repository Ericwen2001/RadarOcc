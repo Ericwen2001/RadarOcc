{
 "cells": [
  {
   "cell_type": "code",
   "execution_count": 47,
   "metadata": {},
   "outputs": [],
   "source": [
    "import torch\n",
    "def get_reference_points(H, W, Z=8, num_points_in_pillar=1, dim='3d', bs=1, device='cpu', dtype=torch.float):\n",
    "        \"\"\"Get the reference points used in DCA and DSA.\n",
    "        Args:\n",
    "            H, W: spatial shape of bev.\n",
    "            Z: hight of pillar.\n",
    "            D: sample D points uniformly from each pillar.\n",
    "            device (obj:`device`): The device where\n",
    "                reference_points should be.\n",
    "        Returns:\n",
    "            Tensor: reference points used in decoder, has \\\n",
    "                shape (bs, num_keys, num_levels, 2).\n",
    "        \"\"\"\n",
    "\n",
    "        # reference points in 3D space, used in spatial cross-attention (SCA)\n",
    "        if dim == '3d':\n",
    "            zs = torch.linspace(0.5, Z - 0.5, Z, dtype=dtype,\n",
    "                                device=device).view(1, 1, Z).expand(H, W, Z) / Z\n",
    "            xs = torch.linspace(0.5, W - 0.5, W, dtype=dtype,\n",
    "                                device=device).view(1, W, 1).expand(H, W, Z) / W\n",
    "            ys = torch.linspace(0.5, H - 0.5, H, dtype=dtype,\n",
    "                                device=device).view(H, 1, 1).expand(H, W, Z) / H\n",
    "            ref_3d = torch.stack((xs, ys, zs), -1)\n",
    "            ref_3d = ref_3d.flatten(0,2)\n",
    "            return ref_3d"
   ]
  },
  {
   "cell_type": "code",
   "execution_count": 49,
   "metadata": {},
   "outputs": [
    {
     "ename": "TypeError",
     "evalue": "get_reference_points() missing 2 required positional arguments: 'H' and 'W'",
     "output_type": "error",
     "traceback": [
      "\u001b[0;31m---------------------------------------------------------------------------\u001b[0m",
      "\u001b[0;31mTypeError\u001b[0m                                 Traceback (most recent call last)",
      "\u001b[0;32m/tmp/ipykernel_12369/483066008.py\u001b[0m in \u001b[0;36m<module>\u001b[0;34m\u001b[0m\n\u001b[0;32m----> 1\u001b[0;31m \u001b[0mget_reference_points\u001b[0m\u001b[0;34m(\u001b[0m\u001b[0;34m)\u001b[0m\u001b[0;34m\u001b[0m\u001b[0m\n\u001b[0m",
      "\u001b[0;31mTypeError\u001b[0m: get_reference_points() missing 2 required positional arguments: 'H' and 'W'"
     ]
    }
   ],
   "source": []
  },
  {
   "cell_type": "code",
   "execution_count": 45,
   "metadata": {},
   "outputs": [
    {
     "data": {
      "text/plain": [
       "torch.Size([1, 32768, 3])"
      ]
     },
     "execution_count": 45,
     "metadata": {},
     "output_type": "execute_result"
    }
   ],
   "source": []
  },
  {
   "cell_type": "code",
   "execution_count": 29,
   "metadata": {},
   "outputs": [],
   "source": [
    "num_points_in_pillar=1\n",
    "dim='3d'\n",
    "bs=1\n",
    "device='cpu'\n",
    "dtype=torch.float\n",
    "zs = torch.linspace(0.5, 10 - 0.5, 10, dtype=dtype,\n",
    "                                device=device).view(-1, 1, 1).expand(10,64, 64) / 10"
   ]
  },
  {
   "cell_type": "code",
   "execution_count": 2,
   "metadata": {},
   "outputs": [
    {
     "data": {
      "text/plain": [
       "tensor([[ 0.3466, -0.3249,  0.2414],\n",
       "        [ 0.3448, -0.3249,  0.2856],\n",
       "        [ 0.3434, -0.3249,  0.3303],\n",
       "        ...,\n",
       "        [ 0.7673,  0.7443,  0.5253],\n",
       "        [ 0.7675,  0.7443,  0.5455],\n",
       "        [ 0.7679,  0.7443,  0.5656]])"
      ]
     },
     "execution_count": 2,
     "metadata": {},
     "output_type": "execute_result"
    }
   ],
   "source": [
    "import torch\n",
    "\n",
    "def cartesian_to_spherical(x, y, z):\n",
    "    r = torch.sqrt(x**2 + y**2 + z**2)\n",
    "    theta = torch.atan2(y, x)  # azimuth\n",
    "    phi = torch.asin(z / r)    # elevation\n",
    "    return r, theta, phi\n",
    "\n",
    "def get_reference_points_spherical(H=64, W=64, Z=10, bs=1, device='cpu', dtype=torch.float):\n",
    "    # Cartesian coordinates in specified range\n",
    "    grid_size = 0.8 / 2\n",
    "    x_range = (0, 51.2)\n",
    "    y_range = (-25.6, 25.6)\n",
    "    z_range = (-5, 3)\n",
    "    \n",
    "    xs = torch.linspace(x_range[0]+grid_size, x_range[1]-grid_size, W, dtype=dtype, device=device)\n",
    "    ys = torch.linspace(y_range[0]+grid_size, y_range[1]-grid_size, H, dtype=dtype, device=device)\n",
    "    zs = torch.linspace(z_range[0]+grid_size, z_range[1]-grid_size, Z, dtype=dtype, device=device)\n",
    "    \n",
    "    # Create a meshgrid for 3D coordinates\n",
    "    xs, ys, zs = torch.meshgrid(xs, ys, zs, indexing='ij')\n",
    "    \n",
    "    # Flatten and stack coordinates\n",
    "    ref_3d = torch.stack((xs.flatten(), ys.flatten(), zs.flatten()), -1)\n",
    "    \n",
    "    # Convert to spherical coordinates\n",
    "    rs, thetas, phis = cartesian_to_spherical(ref_3d[:, 0], ref_3d[:, 1], ref_3d[:, 2])\n",
    "    \n",
    "    # Scale spherical coordinates to fit into the target grid\n",
    "    r_res = 1.68\n",
    "    theta_res = 4 * (torch.pi / 180)  # Convert degrees to radians\n",
    "    phi_res = 4 * (torch.pi / 180)    # Convert degrees to radians\n",
    "    \n",
    "    rs_index = (rs / r_res) / 44\n",
    "    thetas_index = (((thetas) / theta_res) + 13.5) / 27\n",
    "    phis_index = (((phis) / phi_res)  + 5)/ 10 \n",
    "    ref_3d_spherical = torch.stack([rs_index,thetas_index,phis_index],-1)\n",
    "    return ref_3d_spherical\n",
    "\n",
    "# Usage\n",
    "H, W, Z = 64, 64, 10\n",
    "ref_3d_spherical = get_reference_points_spherical(H, W, Z, device='cpu', dtype=torch.float32)\n",
    "ref_3d_spherical"
   ]
  },
  {
   "cell_type": "code",
   "execution_count": 3,
   "metadata": {},
   "outputs": [
    {
     "data": {
      "text/plain": [
       "torch.Size([40960, 3])"
      ]
     },
     "execution_count": 3,
     "metadata": {},
     "output_type": "execute_result"
    }
   ],
   "source": [
    "ref_3d_spherical.shape"
   ]
  },
  {
   "cell_type": "code",
   "execution_count": null,
   "metadata": {},
   "outputs": [],
   "source": []
  }
 ],
 "metadata": {
  "kernelspec": {
   "display_name": "surroundocc",
   "language": "python",
   "name": "python3"
  },
  "language_info": {
   "codemirror_mode": {
    "name": "ipython",
    "version": 3
   },
   "file_extension": ".py",
   "mimetype": "text/x-python",
   "name": "python",
   "nbconvert_exporter": "python",
   "pygments_lexer": "ipython3",
   "version": "3.7.0"
  }
 },
 "nbformat": 4,
 "nbformat_minor": 2
}
