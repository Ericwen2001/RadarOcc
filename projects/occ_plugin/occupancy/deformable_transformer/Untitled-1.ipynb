{
 "cells": [
  {
   "cell_type": "code",
   "execution_count": 1,
   "metadata": {},
   "outputs": [],
   "source": [
    "import numpy as np"
   ]
  },
  {
   "cell_type": "code",
   "execution_count": 2,
   "metadata": {},
   "outputs": [],
   "source": [
    "def get_ref_3d():\n",
    "        \"\"\"Get reference points in 3D.\n",
    "        Args:\n",
    "            self.real_h, self.bev_h\n",
    "        Returns:\n",
    "            vox_coords (Array): Voxel indices\n",
    "            ref_3d (Array): 3D reference points\n",
    "        \"\"\"\n",
    "        real_h = 51.2\n",
    "        bev_h = 128\n",
    "        bev_w = 128\n",
    "        bev_z = 32\n",
    "        scene_size = (51.2, 51.2, 8)\n",
    "        vox_origin = np.array([-25.6, -25.6, -5])\n",
    "        voxel_size = real_h / bev_h\n",
    "\n",
    "        vol_bnds = np.zeros((3,2))\n",
    "        vol_bnds[:,0] = vox_origin\n",
    "        vol_bnds[:,1] = vox_origin + np.array(scene_size)\n",
    "\n",
    "        # Compute the voxels index in lidar cooridnates\n",
    "        vol_dim = np.ceil((vol_bnds[:,1]- vol_bnds[:,0])/ voxel_size).copy(order='C').astype(int)\n",
    "        idx = np.array([range(vol_dim[0]*vol_dim[1]*vol_dim[2])])\n",
    "        xv, yv, zv = np.meshgrid(range(vol_dim[0]), range(vol_dim[1]), range(vol_dim[2]), indexing='ij')\n",
    "        vox_coords = np.concatenate([xv.reshape(1,-1), yv.reshape(1,-1), zv.reshape(1,-1), idx], axis=0).astype(int).T\n",
    "\n",
    "        # Normalize the voxels centroids in lidar cooridnates\n",
    "        ref_3d = np.concatenate([(xv.reshape(1,-1)+0.5)/bev_h, (yv.reshape(1,-1)+0.5)/bev_w, (zv.reshape(1,-1)+0.5)/bev_z,], axis=0).astype(np.float64).T \n",
    "\n",
    "        return vox_coords, ref_3d"
   ]
  },
  {
   "cell_type": "code",
   "execution_count": 7,
   "metadata": {},
   "outputs": [
    {
     "data": {
      "text/plain": [
       "(327680, 4)"
      ]
     },
     "execution_count": 7,
     "metadata": {},
     "output_type": "execute_result"
    }
   ],
   "source": [
    "a,b = get_ref_3d()\n",
    "np.shape(a)"
   ]
  },
  {
   "cell_type": "code",
   "execution_count": 11,
   "metadata": {},
   "outputs": [
    {
     "data": {
      "text/plain": [
       "327680"
      ]
     },
     "execution_count": 11,
     "metadata": {},
     "output_type": "execute_result"
    }
   ],
   "source": [
    "128*128*20"
   ]
  },
  {
   "cell_type": "code",
   "execution_count": null,
   "metadata": {},
   "outputs": [],
   "source": []
  }
 ],
 "metadata": {
  "kernelspec": {
   "display_name": "OpenOccupancy",
   "language": "python",
   "name": "python3"
  },
  "language_info": {
   "codemirror_mode": {
    "name": "ipython",
    "version": 3
   },
   "file_extension": ".py",
   "mimetype": "text/x-python",
   "name": "python",
   "nbconvert_exporter": "python",
   "pygments_lexer": "ipython3",
   "version": "3.7.16"
  }
 },
 "nbformat": 4,
 "nbformat_minor": 2
}
